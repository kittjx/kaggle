{
 "cells": [
  {
   "cell_type": "code",
   "execution_count": 57,
   "metadata": {},
   "outputs": [],
   "source": [
    "import torch\n",
    "import torch.nn as nn\n",
    "import pandas as pd\n",
    "import numpy as np\n",
    "from torch.utils.data import Dataset, DataLoader, random_split\n",
    "from torchvision import transforms\n",
    "from PIL import Image\n",
    "import os\n",
    "import matplotlib.pyplot as plt\n",
    "import torchvision.models as models\n",
    "\n",
    "# This is for the progress bar.\n",
    "from tqdm import tqdm\n",
    "# import seaborn as sns"
   ]
  },
  {
   "cell_type": "code",
   "execution_count": 58,
   "metadata": {},
   "outputs": [
    {
     "data": {
      "text/html": [
       "<div>\n",
       "<style scoped>\n",
       "    .dataframe tbody tr th:only-of-type {\n",
       "        vertical-align: middle;\n",
       "    }\n",
       "\n",
       "    .dataframe tbody tr th {\n",
       "        vertical-align: top;\n",
       "    }\n",
       "\n",
       "    .dataframe thead th {\n",
       "        text-align: right;\n",
       "    }\n",
       "</style>\n",
       "<table border=\"1\" class=\"dataframe\">\n",
       "  <thead>\n",
       "    <tr style=\"text-align: right;\">\n",
       "      <th></th>\n",
       "      <th>image</th>\n",
       "      <th>label</th>\n",
       "    </tr>\n",
       "  </thead>\n",
       "  <tbody>\n",
       "    <tr>\n",
       "      <th>0</th>\n",
       "      <td>images/0.jpg</td>\n",
       "      <td>maclura_pomifera</td>\n",
       "    </tr>\n",
       "    <tr>\n",
       "      <th>1</th>\n",
       "      <td>images/1.jpg</td>\n",
       "      <td>maclura_pomifera</td>\n",
       "    </tr>\n",
       "    <tr>\n",
       "      <th>2</th>\n",
       "      <td>images/2.jpg</td>\n",
       "      <td>maclura_pomifera</td>\n",
       "    </tr>\n",
       "    <tr>\n",
       "      <th>3</th>\n",
       "      <td>images/3.jpg</td>\n",
       "      <td>maclura_pomifera</td>\n",
       "    </tr>\n",
       "    <tr>\n",
       "      <th>4</th>\n",
       "      <td>images/4.jpg</td>\n",
       "      <td>maclura_pomifera</td>\n",
       "    </tr>\n",
       "    <tr>\n",
       "      <th>5</th>\n",
       "      <td>images/5.jpg</td>\n",
       "      <td>maclura_pomifera</td>\n",
       "    </tr>\n",
       "    <tr>\n",
       "      <th>6</th>\n",
       "      <td>images/6.jpg</td>\n",
       "      <td>ulmus_rubra</td>\n",
       "    </tr>\n",
       "    <tr>\n",
       "      <th>7</th>\n",
       "      <td>images/7.jpg</td>\n",
       "      <td>broussonettia_papyrifera</td>\n",
       "    </tr>\n",
       "    <tr>\n",
       "      <th>8</th>\n",
       "      <td>images/8.jpg</td>\n",
       "      <td>maclura_pomifera</td>\n",
       "    </tr>\n",
       "    <tr>\n",
       "      <th>9</th>\n",
       "      <td>images/9.jpg</td>\n",
       "      <td>broussonettia_papyrifera</td>\n",
       "    </tr>\n",
       "  </tbody>\n",
       "</table>\n",
       "</div>"
      ],
      "text/plain": [
       "          image                     label\n",
       "0  images/0.jpg          maclura_pomifera\n",
       "1  images/1.jpg          maclura_pomifera\n",
       "2  images/2.jpg          maclura_pomifera\n",
       "3  images/3.jpg          maclura_pomifera\n",
       "4  images/4.jpg          maclura_pomifera\n",
       "5  images/5.jpg          maclura_pomifera\n",
       "6  images/6.jpg               ulmus_rubra\n",
       "7  images/7.jpg  broussonettia_papyrifera\n",
       "8  images/8.jpg          maclura_pomifera\n",
       "9  images/9.jpg  broussonettia_papyrifera"
      ]
     },
     "execution_count": 58,
     "metadata": {},
     "output_type": "execute_result"
    }
   ],
   "source": [
    "train_df = pd.read_csv('./data/classify-leaves/train.csv')\n",
    "train_df.head(10)\n"
   ]
  },
  {
   "cell_type": "code",
   "execution_count": 59,
   "metadata": {},
   "outputs": [
    {
     "data": {
      "text/plain": [
       "label\n",
       "maclura_pomifera            353\n",
       "ulmus_rubra                 235\n",
       "prunus_virginiana           223\n",
       "acer_rubrum                 217\n",
       "broussonettia_papyrifera    214\n",
       "                           ... \n",
       "cedrus_deodara               58\n",
       "ailanthus_altissima          58\n",
       "crataegus_crus-galli         54\n",
       "evodia_daniellii             53\n",
       "juniperus_virginiana         51\n",
       "Name: count, Length: 176, dtype: int64"
      ]
     },
     "execution_count": 59,
     "metadata": {},
     "output_type": "execute_result"
    }
   ],
   "source": [
    "# 各类别出现次数\n",
    "train_df['label'].value_counts()"
   ]
  },
  {
   "cell_type": "code",
   "execution_count": 60,
   "metadata": {},
   "outputs": [
    {
     "data": {
      "text/plain": [
       "176"
      ]
     },
     "execution_count": 60,
     "metadata": {},
     "output_type": "execute_result"
    }
   ],
   "source": [
    "class_labels = train_df['label'].unique()\n",
    "num_classes = len(class_labels)\n",
    "num_classes"
   ]
  },
  {
   "cell_type": "code",
   "execution_count": 61,
   "metadata": {},
   "outputs": [
    {
     "data": {
      "text/plain": [
       "{'maclura_pomifera': 0,\n",
       " 'ulmus_rubra': 1,\n",
       " 'broussonettia_papyrifera': 2,\n",
       " 'prunus_virginiana': 3,\n",
       " 'acer_rubrum': 4,\n",
       " 'cryptomeria_japonica': 5,\n",
       " 'staphylea_trifolia': 6,\n",
       " 'asimina_triloba': 7,\n",
       " 'diospyros_virginiana': 8,\n",
       " 'tilia_cordata': 9,\n",
       " 'ulmus_pumila': 10,\n",
       " 'quercus_muehlenbergii': 11,\n",
       " 'juglans_cinerea': 12,\n",
       " 'cercis_canadensis': 13,\n",
       " 'ptelea_trifoliata': 14,\n",
       " 'acer_palmatum': 15,\n",
       " 'catalpa_speciosa': 16,\n",
       " 'abies_concolor': 17,\n",
       " 'eucommia_ulmoides': 18,\n",
       " 'quercus_montana': 19,\n",
       " 'koelreuteria_paniculata': 20,\n",
       " 'liriodendron_tulipifera': 21,\n",
       " 'styrax_japonica': 22,\n",
       " 'malus_pumila': 23,\n",
       " 'prunus_sargentii': 24,\n",
       " 'cornus_mas': 25,\n",
       " 'magnolia_virginiana': 26,\n",
       " 'ostrya_virginiana': 27,\n",
       " 'magnolia_acuminata': 28,\n",
       " 'ilex_opaca': 29,\n",
       " 'acer_negundo': 30,\n",
       " 'fraxinus_nigra': 31,\n",
       " 'pyrus_calleryana': 32,\n",
       " 'picea_abies': 33,\n",
       " 'chionanthus_virginicus': 34,\n",
       " 'carpinus_caroliniana': 35,\n",
       " 'zelkova_serrata': 36,\n",
       " 'aesculus_pavi': 37,\n",
       " 'taxodium_distichum': 38,\n",
       " 'carya_tomentosa': 39,\n",
       " 'picea_pungens': 40,\n",
       " 'carya_glabra': 41,\n",
       " 'quercus_macrocarpa': 42,\n",
       " 'carya_cordiformis': 43,\n",
       " 'catalpa_bignonioides': 44,\n",
       " 'tsuga_canadensis': 45,\n",
       " 'populus_tremuloides': 46,\n",
       " 'magnolia_denudata': 47,\n",
       " 'crataegus_viridis': 48,\n",
       " 'populus_deltoides': 49,\n",
       " 'ulmus_americana': 50,\n",
       " 'pinus_bungeana': 51,\n",
       " 'cornus_florida': 52,\n",
       " 'pinus_densiflora': 53,\n",
       " 'morus_alba': 54,\n",
       " 'quercus_velutina': 55,\n",
       " 'pinus_parviflora': 56,\n",
       " 'salix_caroliniana': 57,\n",
       " 'platanus_occidentalis': 58,\n",
       " 'acer_saccharum': 59,\n",
       " 'pinus_flexilis': 60,\n",
       " 'gleditsia_triacanthos': 61,\n",
       " 'quercus_alba': 62,\n",
       " 'prunus_subhirtella': 63,\n",
       " 'pseudolarix_amabilis': 64,\n",
       " 'stewartia_pseudocamellia': 65,\n",
       " 'quercus_stellata': 66,\n",
       " 'pinus_rigida': 67,\n",
       " 'salix_nigra': 68,\n",
       " 'quercus_acutissima': 69,\n",
       " 'pinus_virginiana': 70,\n",
       " 'chamaecyparis_pisifera': 71,\n",
       " 'quercus_michauxii': 72,\n",
       " 'prunus_pensylvanica': 73,\n",
       " 'amelanchier_canadensis': 74,\n",
       " 'liquidambar_styraciflua': 75,\n",
       " 'pinus_cembra': 76,\n",
       " 'malus_hupehensis': 77,\n",
       " 'castanea_dentata': 78,\n",
       " 'magnolia_stellata': 79,\n",
       " 'chionanthus_retusus': 80,\n",
       " 'carya_ovata': 81,\n",
       " 'quercus_marilandica': 82,\n",
       " 'tilia_americana': 83,\n",
       " 'cedrus_atlantica': 84,\n",
       " 'ulmus_parvifolia': 85,\n",
       " 'nyssa_sylvatica': 86,\n",
       " 'quercus_virginiana': 87,\n",
       " 'acer_saccharinum': 88,\n",
       " 'magnolia_macrophylla': 89,\n",
       " 'crataegus_pruinosa': 90,\n",
       " 'pinus_nigra': 91,\n",
       " 'abies_nordmanniana': 92,\n",
       " 'pinus_taeda': 93,\n",
       " 'ficus_carica': 94,\n",
       " 'pinus_peucea': 95,\n",
       " 'populus_grandidentata': 96,\n",
       " 'acer_platanoides': 97,\n",
       " 'pinus_resinosa': 98,\n",
       " 'salix_matsudana': 99,\n",
       " 'pinus_sylvestris': 100,\n",
       " 'albizia_julibrissin': 101,\n",
       " 'salix_babylonica': 102,\n",
       " 'pinus_echinata': 103,\n",
       " 'magnolia_tripetala': 104,\n",
       " 'larix_decidua': 105,\n",
       " 'pinus_strobus': 106,\n",
       " 'aesculus_glabra': 107,\n",
       " 'ginkgo_biloba': 108,\n",
       " 'quercus_cerris': 109,\n",
       " 'metasequoia_glyptostroboides': 110,\n",
       " 'fagus_grandifolia': 111,\n",
       " 'quercus_nigra': 112,\n",
       " 'juglans_nigra': 113,\n",
       " 'pinus_koraiensis': 114,\n",
       " 'oxydendrum_arboreum': 115,\n",
       " 'morus_rubra': 116,\n",
       " 'crataegus_phaenopyrum': 117,\n",
       " 'pinus_wallichiana': 118,\n",
       " 'tilia_europaea': 119,\n",
       " 'betula_jacqemontii': 120,\n",
       " 'chamaecyparis_thyoides': 121,\n",
       " 'acer_ginnala': 122,\n",
       " 'acer_campestre': 123,\n",
       " 'pinus_pungens': 124,\n",
       " 'malus_floribunda': 125,\n",
       " 'picea_orientalis': 126,\n",
       " 'amelanchier_laevis': 127,\n",
       " 'celtis_tenuifolia': 128,\n",
       " 'gymnocladus_dioicus': 129,\n",
       " 'quercus_bicolor': 130,\n",
       " 'malus_coronaria': 131,\n",
       " 'cercidiphyllum_japonicum': 132,\n",
       " 'cedrus_libani': 133,\n",
       " 'betula_nigra': 134,\n",
       " 'acer_pensylvanicum': 135,\n",
       " 'platanus_acerifolia': 136,\n",
       " 'robinia_pseudo-acacia': 137,\n",
       " 'ulmus_glabra': 138,\n",
       " 'crataegus_laevigata': 139,\n",
       " 'quercus_coccinea': 140,\n",
       " 'prunus_serotina': 141,\n",
       " 'tilia_tomentosa': 142,\n",
       " 'quercus_imbricaria': 143,\n",
       " 'cladrastis_lutea': 144,\n",
       " 'fraxinus_pennsylvanica': 145,\n",
       " 'phellodendron_amurense': 146,\n",
       " 'betula_lenta': 147,\n",
       " 'quercus_robur': 148,\n",
       " 'aesculus_flava': 149,\n",
       " 'paulownia_tomentosa': 150,\n",
       " 'amelanchier_arborea': 151,\n",
       " 'quercus_shumardii': 152,\n",
       " 'magnolia_grandiflora': 153,\n",
       " 'cornus_kousa': 154,\n",
       " 'betula_alleghaniensis': 155,\n",
       " 'carpinus_betulus': 156,\n",
       " 'aesculus_hippocastamon': 157,\n",
       " 'malus_baccata': 158,\n",
       " 'acer_pseudoplatanus': 159,\n",
       " 'betula_populifolia': 160,\n",
       " 'prunus_yedoensis': 161,\n",
       " 'halesia_tetraptera': 162,\n",
       " 'quercus_palustris': 163,\n",
       " 'evodia_daniellii': 164,\n",
       " 'ulmus_procera': 165,\n",
       " 'prunus_serrulata': 166,\n",
       " 'quercus_phellos': 167,\n",
       " 'cedrus_deodara': 168,\n",
       " 'celtis_occidentalis': 169,\n",
       " 'sassafras_albidum': 170,\n",
       " 'acer_griseum': 171,\n",
       " 'ailanthus_altissima': 172,\n",
       " 'pinus_thunbergii': 173,\n",
       " 'crataegus_crus-galli': 174,\n",
       " 'juniperus_virginiana': 175}"
      ]
     },
     "execution_count": 61,
     "metadata": {},
     "output_type": "execute_result"
    }
   ],
   "source": [
    "# 类名转idx\n",
    "class_to_idx = {label: i for i, label in enumerate(class_labels)}\n",
    "class_to_idx\n"
   ]
  },
  {
   "cell_type": "code",
   "execution_count": 62,
   "metadata": {},
   "outputs": [
    {
     "data": {
      "text/plain": [
       "{0: 'maclura_pomifera',\n",
       " 1: 'ulmus_rubra',\n",
       " 2: 'broussonettia_papyrifera',\n",
       " 3: 'prunus_virginiana',\n",
       " 4: 'acer_rubrum',\n",
       " 5: 'cryptomeria_japonica',\n",
       " 6: 'staphylea_trifolia',\n",
       " 7: 'asimina_triloba',\n",
       " 8: 'diospyros_virginiana',\n",
       " 9: 'tilia_cordata',\n",
       " 10: 'ulmus_pumila',\n",
       " 11: 'quercus_muehlenbergii',\n",
       " 12: 'juglans_cinerea',\n",
       " 13: 'cercis_canadensis',\n",
       " 14: 'ptelea_trifoliata',\n",
       " 15: 'acer_palmatum',\n",
       " 16: 'catalpa_speciosa',\n",
       " 17: 'abies_concolor',\n",
       " 18: 'eucommia_ulmoides',\n",
       " 19: 'quercus_montana',\n",
       " 20: 'koelreuteria_paniculata',\n",
       " 21: 'liriodendron_tulipifera',\n",
       " 22: 'styrax_japonica',\n",
       " 23: 'malus_pumila',\n",
       " 24: 'prunus_sargentii',\n",
       " 25: 'cornus_mas',\n",
       " 26: 'magnolia_virginiana',\n",
       " 27: 'ostrya_virginiana',\n",
       " 28: 'magnolia_acuminata',\n",
       " 29: 'ilex_opaca',\n",
       " 30: 'acer_negundo',\n",
       " 31: 'fraxinus_nigra',\n",
       " 32: 'pyrus_calleryana',\n",
       " 33: 'picea_abies',\n",
       " 34: 'chionanthus_virginicus',\n",
       " 35: 'carpinus_caroliniana',\n",
       " 36: 'zelkova_serrata',\n",
       " 37: 'aesculus_pavi',\n",
       " 38: 'taxodium_distichum',\n",
       " 39: 'carya_tomentosa',\n",
       " 40: 'picea_pungens',\n",
       " 41: 'carya_glabra',\n",
       " 42: 'quercus_macrocarpa',\n",
       " 43: 'carya_cordiformis',\n",
       " 44: 'catalpa_bignonioides',\n",
       " 45: 'tsuga_canadensis',\n",
       " 46: 'populus_tremuloides',\n",
       " 47: 'magnolia_denudata',\n",
       " 48: 'crataegus_viridis',\n",
       " 49: 'populus_deltoides',\n",
       " 50: 'ulmus_americana',\n",
       " 51: 'pinus_bungeana',\n",
       " 52: 'cornus_florida',\n",
       " 53: 'pinus_densiflora',\n",
       " 54: 'morus_alba',\n",
       " 55: 'quercus_velutina',\n",
       " 56: 'pinus_parviflora',\n",
       " 57: 'salix_caroliniana',\n",
       " 58: 'platanus_occidentalis',\n",
       " 59: 'acer_saccharum',\n",
       " 60: 'pinus_flexilis',\n",
       " 61: 'gleditsia_triacanthos',\n",
       " 62: 'quercus_alba',\n",
       " 63: 'prunus_subhirtella',\n",
       " 64: 'pseudolarix_amabilis',\n",
       " 65: 'stewartia_pseudocamellia',\n",
       " 66: 'quercus_stellata',\n",
       " 67: 'pinus_rigida',\n",
       " 68: 'salix_nigra',\n",
       " 69: 'quercus_acutissima',\n",
       " 70: 'pinus_virginiana',\n",
       " 71: 'chamaecyparis_pisifera',\n",
       " 72: 'quercus_michauxii',\n",
       " 73: 'prunus_pensylvanica',\n",
       " 74: 'amelanchier_canadensis',\n",
       " 75: 'liquidambar_styraciflua',\n",
       " 76: 'pinus_cembra',\n",
       " 77: 'malus_hupehensis',\n",
       " 78: 'castanea_dentata',\n",
       " 79: 'magnolia_stellata',\n",
       " 80: 'chionanthus_retusus',\n",
       " 81: 'carya_ovata',\n",
       " 82: 'quercus_marilandica',\n",
       " 83: 'tilia_americana',\n",
       " 84: 'cedrus_atlantica',\n",
       " 85: 'ulmus_parvifolia',\n",
       " 86: 'nyssa_sylvatica',\n",
       " 87: 'quercus_virginiana',\n",
       " 88: 'acer_saccharinum',\n",
       " 89: 'magnolia_macrophylla',\n",
       " 90: 'crataegus_pruinosa',\n",
       " 91: 'pinus_nigra',\n",
       " 92: 'abies_nordmanniana',\n",
       " 93: 'pinus_taeda',\n",
       " 94: 'ficus_carica',\n",
       " 95: 'pinus_peucea',\n",
       " 96: 'populus_grandidentata',\n",
       " 97: 'acer_platanoides',\n",
       " 98: 'pinus_resinosa',\n",
       " 99: 'salix_matsudana',\n",
       " 100: 'pinus_sylvestris',\n",
       " 101: 'albizia_julibrissin',\n",
       " 102: 'salix_babylonica',\n",
       " 103: 'pinus_echinata',\n",
       " 104: 'magnolia_tripetala',\n",
       " 105: 'larix_decidua',\n",
       " 106: 'pinus_strobus',\n",
       " 107: 'aesculus_glabra',\n",
       " 108: 'ginkgo_biloba',\n",
       " 109: 'quercus_cerris',\n",
       " 110: 'metasequoia_glyptostroboides',\n",
       " 111: 'fagus_grandifolia',\n",
       " 112: 'quercus_nigra',\n",
       " 113: 'juglans_nigra',\n",
       " 114: 'pinus_koraiensis',\n",
       " 115: 'oxydendrum_arboreum',\n",
       " 116: 'morus_rubra',\n",
       " 117: 'crataegus_phaenopyrum',\n",
       " 118: 'pinus_wallichiana',\n",
       " 119: 'tilia_europaea',\n",
       " 120: 'betula_jacqemontii',\n",
       " 121: 'chamaecyparis_thyoides',\n",
       " 122: 'acer_ginnala',\n",
       " 123: 'acer_campestre',\n",
       " 124: 'pinus_pungens',\n",
       " 125: 'malus_floribunda',\n",
       " 126: 'picea_orientalis',\n",
       " 127: 'amelanchier_laevis',\n",
       " 128: 'celtis_tenuifolia',\n",
       " 129: 'gymnocladus_dioicus',\n",
       " 130: 'quercus_bicolor',\n",
       " 131: 'malus_coronaria',\n",
       " 132: 'cercidiphyllum_japonicum',\n",
       " 133: 'cedrus_libani',\n",
       " 134: 'betula_nigra',\n",
       " 135: 'acer_pensylvanicum',\n",
       " 136: 'platanus_acerifolia',\n",
       " 137: 'robinia_pseudo-acacia',\n",
       " 138: 'ulmus_glabra',\n",
       " 139: 'crataegus_laevigata',\n",
       " 140: 'quercus_coccinea',\n",
       " 141: 'prunus_serotina',\n",
       " 142: 'tilia_tomentosa',\n",
       " 143: 'quercus_imbricaria',\n",
       " 144: 'cladrastis_lutea',\n",
       " 145: 'fraxinus_pennsylvanica',\n",
       " 146: 'phellodendron_amurense',\n",
       " 147: 'betula_lenta',\n",
       " 148: 'quercus_robur',\n",
       " 149: 'aesculus_flava',\n",
       " 150: 'paulownia_tomentosa',\n",
       " 151: 'amelanchier_arborea',\n",
       " 152: 'quercus_shumardii',\n",
       " 153: 'magnolia_grandiflora',\n",
       " 154: 'cornus_kousa',\n",
       " 155: 'betula_alleghaniensis',\n",
       " 156: 'carpinus_betulus',\n",
       " 157: 'aesculus_hippocastamon',\n",
       " 158: 'malus_baccata',\n",
       " 159: 'acer_pseudoplatanus',\n",
       " 160: 'betula_populifolia',\n",
       " 161: 'prunus_yedoensis',\n",
       " 162: 'halesia_tetraptera',\n",
       " 163: 'quercus_palustris',\n",
       " 164: 'evodia_daniellii',\n",
       " 165: 'ulmus_procera',\n",
       " 166: 'prunus_serrulata',\n",
       " 167: 'quercus_phellos',\n",
       " 168: 'cedrus_deodara',\n",
       " 169: 'celtis_occidentalis',\n",
       " 170: 'sassafras_albidum',\n",
       " 171: 'acer_griseum',\n",
       " 172: 'ailanthus_altissima',\n",
       " 173: 'pinus_thunbergii',\n",
       " 174: 'crataegus_crus-galli',\n",
       " 175: 'juniperus_virginiana'}"
      ]
     },
     "execution_count": 62,
     "metadata": {},
     "output_type": "execute_result"
    }
   ],
   "source": [
    "# idx转类名\n",
    "idx_to_class = {v : k for k, v in class_to_idx.items()}\n",
    "idx_to_class"
   ]
  },
  {
   "cell_type": "code",
   "execution_count": 63,
   "metadata": {},
   "outputs": [],
   "source": [
    "# 数据预处理\n",
    "transform = transforms.Compose([\n",
    "    transforms.Resize((224, 224)),\n",
    "    # 转成pytorch tensor\n",
    "    transforms.ToTensor(),\n",
    "    # 随机水平反转\n",
    "    transforms.RandomHorizontalFlip(p=0.5),\n",
    "    # transforms.Normalize(mean=[0.485, 0.456, 0.406], std=[0.229, 0.224, 0.225]),\n",
    "])\n",
    "\n",
    "def get_file_path(file):\n",
    "    return os.path.join('data', 'classify-leaves', file)\n",
    "\n",
    "# 定义数据集\n",
    "class ImageDataset(Dataset):\n",
    "    def __init__(self, csv_file, test_mode=False, transform=None):\n",
    "        self.data = pd.read_csv(csv_file)\n",
    "        self.test_mode = test_mode\n",
    "        self.transform = transform\n",
    "\n",
    "    def __len__(self):\n",
    "        return len(self.data)\n",
    "\n",
    "    def __getitem__(self, idx):\n",
    "        img_path = get_file_path(self.data.iloc[idx, 0])\n",
    "        image = Image.open(img_path)\n",
    "        if self.transform:\n",
    "            image = self.transform(image)\n",
    "\n",
    "        if self.test_mode:\n",
    "            # 测试数据集没有label, \n",
    "            return image\n",
    "        else:\n",
    "            label = self.data.iloc[idx, 1]\n",
    "            label_idx = class_to_idx[label]\n",
    "            return image, label_idx\n"
   ]
  },
  {
   "cell_type": "code",
   "execution_count": 64,
   "metadata": {},
   "outputs": [],
   "source": [
    "# 加载CSV文件并创建数据集  \n",
    "all_dataset = ImageDataset(get_file_path('train.csv'), transform=transform)\n",
    "\n",
    "# 划分数据集为训练集和验证集  \n",
    "total_len = len(all_dataset)  \n",
    "val_len = int(0.2 * total_len)  \n",
    "train_len = total_len - val_len  \n",
    "train_dataset, val_dataset = random_split(all_dataset, [train_len, val_len])\n",
    "\n",
    "# 创建数据加载器  \n",
    "train_loader = DataLoader(train_dataset, batch_size=32, shuffle=True, num_workers=2)\n",
    "val_loader = DataLoader(val_dataset, batch_size=32, shuffle=False, num_workers=2)"
   ]
  },
  {
   "cell_type": "code",
   "execution_count": 65,
   "metadata": {},
   "outputs": [
    {
     "name": "stdout",
     "output_type": "stream",
     "text": [
      "cuda\n"
     ]
    }
   ],
   "source": [
    "# cpu还是gpu\n",
    "def get_device():\n",
    "    return 'cuda' if torch.cuda.is_available() else 'cpu'\n",
    "\n",
    "device = get_device()\n",
    "print(device)"
   ]
  },
  {
   "cell_type": "code",
   "execution_count": 66,
   "metadata": {},
   "outputs": [],
   "source": [
    "# 定义模型，加载预训练的weight\n",
    "model = models.resnet18(weights=models.ResNet18_Weights.DEFAULT)\n",
    "# 获取模型最后一个全连接层（通常被称为fc层或分类层）的输入特征数量\n",
    "num_ftrs = model.fc.in_features\n",
    "# 替换全连接层\n",
    "model.fc = nn.Linear(num_ftrs, len(class_to_idx))"
   ]
  },
  {
   "cell_type": "code",
   "execution_count": 67,
   "metadata": {},
   "outputs": [],
   "source": [
    "# 超参数\n",
    "lr = 0.0001\n",
    "weight_decay = 0.001\n",
    "num_epochs = 20\n",
    "model_save = './classify-leaves.pth'"
   ]
  },
  {
   "cell_type": "code",
   "execution_count": 68,
   "metadata": {},
   "outputs": [],
   "source": [
    "model = model.to(device) \n",
    "model.device = device\n",
    "\n",
    "# loss.\n",
    "criterion = nn.CrossEntropyLoss()\n",
    "\n",
    "# 优化函数.\n",
    "optimizer = torch.optim.Adam(model.parameters(), lr = lr, weight_decay=weight_decay)"
   ]
  },
  {
   "cell_type": "code",
   "execution_count": 69,
   "metadata": {},
   "outputs": [],
   "source": [
    "# 训练\n",
    "def train_model(model, criterion, optimizer, train_loader, val_loader, num_epochs=20):\n",
    "    best_acc = 0.0\n",
    "    for epoch in range(num_epochs):\n",
    "        model.train()  # 设置模型为训练模式\n",
    "        running_loss = 0.0\n",
    "\n",
    "        for (inputs, labels) in tqdm(train_loader):\n",
    "            inputs, labels = inputs.to(device), labels.to(device)\n",
    "\n",
    "            # 前向传播\n",
    "            outputs = model(inputs)\n",
    "            loss = criterion(outputs, labels)\n",
    "\n",
    "            # 反向传播和优化\n",
    "            optimizer.zero_grad()\n",
    "            loss.backward()\n",
    "            optimizer.step()\n",
    "\n",
    "            # 累计损失\n",
    "            running_loss += loss.item()\n",
    "\n",
    "        # 在验证集上评估模型\n",
    "        val_loss, val_acc = evaluate_model(model, val_loader, criterion)\n",
    "          \n",
    "        # 打印训练集和验证集的结果\n",
    "        print(f'Epoch {epoch+1}/{num_epochs}, Loss: {running_loss/len(train_loader)}, Val Loss: {val_loss}, Val Acc: {val_acc:.4f}')\n",
    "          \n",
    "        # 保存最佳模型\n",
    "        if val_acc > best_acc:\n",
    "            best_acc = val_acc\n",
    "            torch.save(model.state_dict(), model_save)\n",
    "            print(f'Model improved, new best accuracy is {best_acc:.4f}, saving model to {model_save}')\n",
    "\n",
    "\n",
    "# 评估\n",
    "def evaluate_model(model, data_loader, criterion):\n",
    "    # 设置模型为评估模式\n",
    "    model.eval()\n",
    "\n",
    "    # 累加损失值\n",
    "    total_loss = 0.0\n",
    "    # 预测正确的样本数\n",
    "    correct_num = 0\n",
    "    # 验证集中总的样本数\n",
    "    inputs_num = 0\n",
    "\n",
    "    with torch.no_grad():\n",
    "        for (inputs, labels) in tqdm(data_loader):\n",
    "            inputs, labels = inputs.to(device), labels.to(device)\n",
    "            # 前向传播\n",
    "            outputs = model(inputs)\n",
    "            # 计算损失并累加\n",
    "            batch_loss = criterion(outputs, labels)\n",
    "            total_loss += batch_loss.item()\n",
    "\n",
    "            # 沿着维度1（即每个样本的输出向量）进行操作，返回两个张量：\n",
    "            # 一个包含每个输出向量中的最大值，另一个包含这些最大值的索引\n",
    "            _, predicted = torch.max(outputs, 1)\n",
    "\n",
    "            # 累加batch中的样本数\n",
    "            inputs_num += inputs.size(0)\n",
    "            # 正确的预测数\n",
    "            correct_num += (predicted == labels).sum().item()\n",
    "  \n",
    "    avg_loss = total_loss / len(data_loader)\n",
    "    accuracy = 100 * correct_num / inputs_num\n",
    "    return avg_loss, accuracy"
   ]
  },
  {
   "cell_type": "code",
   "execution_count": 70,
   "metadata": {},
   "outputs": [
    {
     "name": "stderr",
     "output_type": "stream",
     "text": [
      "100%|██████████| 459/459 [00:29<00:00, 15.83it/s]\n",
      "100%|██████████| 115/115 [00:02<00:00, 45.16it/s]\n"
     ]
    },
    {
     "name": "stdout",
     "output_type": "stream",
     "text": [
      "Epoch 1/20, Loss: 2.6609945162189295, Val Loss: 1.2696688859359078, Val Acc: 73.4877\n",
      "Model improved, new best accuracy is 73.4877, saving model to ./classify-leaves.pth\n"
     ]
    },
    {
     "name": "stderr",
     "output_type": "stream",
     "text": [
      "100%|██████████| 459/459 [00:29<00:00, 15.77it/s]\n",
      "100%|██████████| 115/115 [00:02<00:00, 44.80it/s]\n"
     ]
    },
    {
     "name": "stdout",
     "output_type": "stream",
     "text": [
      "Epoch 2/20, Loss: 0.8692675817895819, Val Loss: 0.5809299088042715, Val Acc: 86.0763\n",
      "Model improved, new best accuracy is 86.0763, saving model to ./classify-leaves.pth\n"
     ]
    },
    {
     "name": "stderr",
     "output_type": "stream",
     "text": [
      "100%|██████████| 459/459 [00:29<00:00, 15.80it/s]\n",
      "100%|██████████| 115/115 [00:02<00:00, 44.80it/s]\n"
     ]
    },
    {
     "name": "stdout",
     "output_type": "stream",
     "text": [
      "Epoch 3/20, Loss: 0.4260177191890663, Val Loss: 0.4142016351222992, Val Acc: 89.8365\n",
      "Model improved, new best accuracy is 89.8365, saving model to ./classify-leaves.pth\n"
     ]
    },
    {
     "name": "stderr",
     "output_type": "stream",
     "text": [
      "100%|██████████| 459/459 [00:29<00:00, 15.78it/s]\n",
      "100%|██████████| 115/115 [00:02<00:00, 45.14it/s]\n"
     ]
    },
    {
     "name": "stdout",
     "output_type": "stream",
     "text": [
      "Epoch 4/20, Loss: 0.25058412030826205, Val Loss: 0.355677983035212, Val Acc: 90.5177\n",
      "Model improved, new best accuracy is 90.5177, saving model to ./classify-leaves.pth\n"
     ]
    },
    {
     "name": "stderr",
     "output_type": "stream",
     "text": [
      "100%|██████████| 459/459 [00:29<00:00, 15.82it/s]\n",
      "100%|██████████| 115/115 [00:02<00:00, 43.81it/s]\n"
     ]
    },
    {
     "name": "stdout",
     "output_type": "stream",
     "text": [
      "Epoch 5/20, Loss: 0.18469747145353838, Val Loss: 0.3153163959150729, Val Acc: 91.0082\n",
      "Model improved, new best accuracy is 91.0082, saving model to ./classify-leaves.pth\n"
     ]
    },
    {
     "name": "stderr",
     "output_type": "stream",
     "text": [
      "100%|██████████| 459/459 [00:29<00:00, 15.82it/s]\n",
      "100%|██████████| 115/115 [00:02<00:00, 45.00it/s]\n"
     ]
    },
    {
     "name": "stdout",
     "output_type": "stream",
     "text": [
      "Epoch 6/20, Loss: 0.146748597618022, Val Loss: 0.28986954705222795, Val Acc: 91.2534\n",
      "Model improved, new best accuracy is 91.2534, saving model to ./classify-leaves.pth\n"
     ]
    },
    {
     "name": "stderr",
     "output_type": "stream",
     "text": [
      "100%|██████████| 459/459 [00:29<00:00, 15.79it/s]\n",
      "100%|██████████| 115/115 [00:02<00:00, 45.14it/s]\n"
     ]
    },
    {
     "name": "stdout",
     "output_type": "stream",
     "text": [
      "Epoch 7/20, Loss: 0.13115468889896906, Val Loss: 0.2616855986092402, Val Acc: 92.7520\n",
      "Model improved, new best accuracy is 92.7520, saving model to ./classify-leaves.pth\n"
     ]
    },
    {
     "name": "stderr",
     "output_type": "stream",
     "text": [
      "100%|██████████| 459/459 [00:29<00:00, 15.79it/s]\n",
      "100%|██████████| 115/115 [00:02<00:00, 45.12it/s]\n"
     ]
    },
    {
     "name": "stdout",
     "output_type": "stream",
     "text": [
      "Epoch 8/20, Loss: 0.12171065803284478, Val Loss: 0.27168951598198515, Val Acc: 92.1526\n"
     ]
    },
    {
     "name": "stderr",
     "output_type": "stream",
     "text": [
      "100%|██████████| 459/459 [00:29<00:00, 15.74it/s]\n",
      "100%|██████████| 115/115 [00:02<00:00, 44.89it/s]\n"
     ]
    },
    {
     "name": "stdout",
     "output_type": "stream",
     "text": [
      "Epoch 9/20, Loss: 0.12337694229042738, Val Loss: 0.24703954581333243, Val Acc: 93.0245\n",
      "Model improved, new best accuracy is 93.0245, saving model to ./classify-leaves.pth\n"
     ]
    },
    {
     "name": "stderr",
     "output_type": "stream",
     "text": [
      "100%|██████████| 459/459 [00:29<00:00, 15.76it/s]\n",
      "100%|██████████| 115/115 [00:02<00:00, 44.62it/s]\n"
     ]
    },
    {
     "name": "stdout",
     "output_type": "stream",
     "text": [
      "Epoch 10/20, Loss: 0.10110616517174088, Val Loss: 0.2765133248075195, Val Acc: 92.3161\n"
     ]
    },
    {
     "name": "stderr",
     "output_type": "stream",
     "text": [
      "100%|██████████| 459/459 [00:29<00:00, 15.76it/s]\n",
      "100%|██████████| 115/115 [00:02<00:00, 44.28it/s]\n"
     ]
    },
    {
     "name": "stdout",
     "output_type": "stream",
     "text": [
      "Epoch 11/20, Loss: 0.11510533155276885, Val Loss: 0.30150361994038455, Val Acc: 91.9346\n"
     ]
    },
    {
     "name": "stderr",
     "output_type": "stream",
     "text": [
      "100%|██████████| 459/459 [00:29<00:00, 15.78it/s]\n",
      "100%|██████████| 115/115 [00:02<00:00, 44.31it/s]\n"
     ]
    },
    {
     "name": "stdout",
     "output_type": "stream",
     "text": [
      "Epoch 12/20, Loss: 0.11098853010108009, Val Loss: 0.262242249885331, Val Acc: 92.5886\n"
     ]
    },
    {
     "name": "stderr",
     "output_type": "stream",
     "text": [
      "100%|██████████| 459/459 [00:29<00:00, 15.76it/s]\n",
      "100%|██████████| 115/115 [00:02<00:00, 44.81it/s]\n"
     ]
    },
    {
     "name": "stdout",
     "output_type": "stream",
     "text": [
      "Epoch 13/20, Loss: 0.09681303606800784, Val Loss: 0.3378826101836951, Val Acc: 90.2725\n"
     ]
    },
    {
     "name": "stderr",
     "output_type": "stream",
     "text": [
      "100%|██████████| 459/459 [00:29<00:00, 15.75it/s]\n",
      "100%|██████████| 115/115 [00:02<00:00, 44.48it/s]\n"
     ]
    },
    {
     "name": "stdout",
     "output_type": "stream",
     "text": [
      "Epoch 14/20, Loss: 0.10107084215985923, Val Loss: 0.3396562933921814, Val Acc: 90.6540\n"
     ]
    },
    {
     "name": "stderr",
     "output_type": "stream",
     "text": [
      "100%|██████████| 459/459 [00:29<00:00, 15.75it/s]\n",
      "100%|██████████| 115/115 [00:02<00:00, 44.12it/s]\n"
     ]
    },
    {
     "name": "stdout",
     "output_type": "stream",
     "text": [
      "Epoch 15/20, Loss: 0.09046901844052319, Val Loss: 0.30324140949093775, Val Acc: 91.8801\n"
     ]
    },
    {
     "name": "stderr",
     "output_type": "stream",
     "text": [
      "100%|██████████| 459/459 [00:29<00:00, 15.76it/s]\n",
      "100%|██████████| 115/115 [00:02<00:00, 44.70it/s]\n"
     ]
    },
    {
     "name": "stdout",
     "output_type": "stream",
     "text": [
      "Epoch 16/20, Loss: 0.12440756241301955, Val Loss: 0.28120885954602903, Val Acc: 91.9346\n"
     ]
    },
    {
     "name": "stderr",
     "output_type": "stream",
     "text": [
      "100%|██████████| 459/459 [00:29<00:00, 15.75it/s]\n",
      "100%|██████████| 115/115 [00:02<00:00, 44.18it/s]\n"
     ]
    },
    {
     "name": "stdout",
     "output_type": "stream",
     "text": [
      "Epoch 17/20, Loss: 0.09801186554434188, Val Loss: 0.38486183998377427, Val Acc: 88.9101\n"
     ]
    },
    {
     "name": "stderr",
     "output_type": "stream",
     "text": [
      "100%|██████████| 459/459 [00:29<00:00, 15.73it/s]\n",
      "100%|██████████| 115/115 [00:02<00:00, 44.92it/s]\n"
     ]
    },
    {
     "name": "stdout",
     "output_type": "stream",
     "text": [
      "Epoch 18/20, Loss: 0.0782402461670615, Val Loss: 0.3445411283036937, Val Acc: 90.5722\n"
     ]
    },
    {
     "name": "stderr",
     "output_type": "stream",
     "text": [
      "100%|██████████| 459/459 [00:29<00:00, 15.71it/s]\n",
      "100%|██████████| 115/115 [00:02<00:00, 43.99it/s]\n"
     ]
    },
    {
     "name": "stdout",
     "output_type": "stream",
     "text": [
      "Epoch 19/20, Loss: 0.10759043782007979, Val Loss: 0.2983164889656979, Val Acc: 92.0981\n"
     ]
    },
    {
     "name": "stderr",
     "output_type": "stream",
     "text": [
      "100%|██████████| 459/459 [00:29<00:00, 15.78it/s]\n",
      "100%|██████████| 115/115 [00:02<00:00, 44.54it/s]"
     ]
    },
    {
     "name": "stdout",
     "output_type": "stream",
     "text": [
      "Epoch 20/20, Loss: 0.08591710335183442, Val Loss: 0.2541945234912893, Val Acc: 92.8338\n"
     ]
    },
    {
     "name": "stderr",
     "output_type": "stream",
     "text": [
      "\n"
     ]
    }
   ],
   "source": [
    "# 开始训练\n",
    "train_model(model, criterion, optimizer, train_loader, val_loader, num_epochs=num_epochs)"
   ]
  },
  {
   "cell_type": "code",
   "execution_count": 72,
   "metadata": {},
   "outputs": [
    {
     "data": {
      "text/plain": [
       "ResNet(\n",
       "  (conv1): Conv2d(3, 64, kernel_size=(7, 7), stride=(2, 2), padding=(3, 3), bias=False)\n",
       "  (bn1): BatchNorm2d(64, eps=1e-05, momentum=0.1, affine=True, track_running_stats=True)\n",
       "  (relu): ReLU(inplace=True)\n",
       "  (maxpool): MaxPool2d(kernel_size=3, stride=2, padding=1, dilation=1, ceil_mode=False)\n",
       "  (layer1): Sequential(\n",
       "    (0): BasicBlock(\n",
       "      (conv1): Conv2d(64, 64, kernel_size=(3, 3), stride=(1, 1), padding=(1, 1), bias=False)\n",
       "      (bn1): BatchNorm2d(64, eps=1e-05, momentum=0.1, affine=True, track_running_stats=True)\n",
       "      (relu): ReLU(inplace=True)\n",
       "      (conv2): Conv2d(64, 64, kernel_size=(3, 3), stride=(1, 1), padding=(1, 1), bias=False)\n",
       "      (bn2): BatchNorm2d(64, eps=1e-05, momentum=0.1, affine=True, track_running_stats=True)\n",
       "    )\n",
       "    (1): BasicBlock(\n",
       "      (conv1): Conv2d(64, 64, kernel_size=(3, 3), stride=(1, 1), padding=(1, 1), bias=False)\n",
       "      (bn1): BatchNorm2d(64, eps=1e-05, momentum=0.1, affine=True, track_running_stats=True)\n",
       "      (relu): ReLU(inplace=True)\n",
       "      (conv2): Conv2d(64, 64, kernel_size=(3, 3), stride=(1, 1), padding=(1, 1), bias=False)\n",
       "      (bn2): BatchNorm2d(64, eps=1e-05, momentum=0.1, affine=True, track_running_stats=True)\n",
       "    )\n",
       "  )\n",
       "  (layer2): Sequential(\n",
       "    (0): BasicBlock(\n",
       "      (conv1): Conv2d(64, 128, kernel_size=(3, 3), stride=(2, 2), padding=(1, 1), bias=False)\n",
       "      (bn1): BatchNorm2d(128, eps=1e-05, momentum=0.1, affine=True, track_running_stats=True)\n",
       "      (relu): ReLU(inplace=True)\n",
       "      (conv2): Conv2d(128, 128, kernel_size=(3, 3), stride=(1, 1), padding=(1, 1), bias=False)\n",
       "      (bn2): BatchNorm2d(128, eps=1e-05, momentum=0.1, affine=True, track_running_stats=True)\n",
       "      (downsample): Sequential(\n",
       "        (0): Conv2d(64, 128, kernel_size=(1, 1), stride=(2, 2), bias=False)\n",
       "        (1): BatchNorm2d(128, eps=1e-05, momentum=0.1, affine=True, track_running_stats=True)\n",
       "      )\n",
       "    )\n",
       "    (1): BasicBlock(\n",
       "      (conv1): Conv2d(128, 128, kernel_size=(3, 3), stride=(1, 1), padding=(1, 1), bias=False)\n",
       "      (bn1): BatchNorm2d(128, eps=1e-05, momentum=0.1, affine=True, track_running_stats=True)\n",
       "      (relu): ReLU(inplace=True)\n",
       "      (conv2): Conv2d(128, 128, kernel_size=(3, 3), stride=(1, 1), padding=(1, 1), bias=False)\n",
       "      (bn2): BatchNorm2d(128, eps=1e-05, momentum=0.1, affine=True, track_running_stats=True)\n",
       "    )\n",
       "  )\n",
       "  (layer3): Sequential(\n",
       "    (0): BasicBlock(\n",
       "      (conv1): Conv2d(128, 256, kernel_size=(3, 3), stride=(2, 2), padding=(1, 1), bias=False)\n",
       "      (bn1): BatchNorm2d(256, eps=1e-05, momentum=0.1, affine=True, track_running_stats=True)\n",
       "      (relu): ReLU(inplace=True)\n",
       "      (conv2): Conv2d(256, 256, kernel_size=(3, 3), stride=(1, 1), padding=(1, 1), bias=False)\n",
       "      (bn2): BatchNorm2d(256, eps=1e-05, momentum=0.1, affine=True, track_running_stats=True)\n",
       "      (downsample): Sequential(\n",
       "        (0): Conv2d(128, 256, kernel_size=(1, 1), stride=(2, 2), bias=False)\n",
       "        (1): BatchNorm2d(256, eps=1e-05, momentum=0.1, affine=True, track_running_stats=True)\n",
       "      )\n",
       "    )\n",
       "    (1): BasicBlock(\n",
       "      (conv1): Conv2d(256, 256, kernel_size=(3, 3), stride=(1, 1), padding=(1, 1), bias=False)\n",
       "      (bn1): BatchNorm2d(256, eps=1e-05, momentum=0.1, affine=True, track_running_stats=True)\n",
       "      (relu): ReLU(inplace=True)\n",
       "      (conv2): Conv2d(256, 256, kernel_size=(3, 3), stride=(1, 1), padding=(1, 1), bias=False)\n",
       "      (bn2): BatchNorm2d(256, eps=1e-05, momentum=0.1, affine=True, track_running_stats=True)\n",
       "    )\n",
       "  )\n",
       "  (layer4): Sequential(\n",
       "    (0): BasicBlock(\n",
       "      (conv1): Conv2d(256, 512, kernel_size=(3, 3), stride=(2, 2), padding=(1, 1), bias=False)\n",
       "      (bn1): BatchNorm2d(512, eps=1e-05, momentum=0.1, affine=True, track_running_stats=True)\n",
       "      (relu): ReLU(inplace=True)\n",
       "      (conv2): Conv2d(512, 512, kernel_size=(3, 3), stride=(1, 1), padding=(1, 1), bias=False)\n",
       "      (bn2): BatchNorm2d(512, eps=1e-05, momentum=0.1, affine=True, track_running_stats=True)\n",
       "      (downsample): Sequential(\n",
       "        (0): Conv2d(256, 512, kernel_size=(1, 1), stride=(2, 2), bias=False)\n",
       "        (1): BatchNorm2d(512, eps=1e-05, momentum=0.1, affine=True, track_running_stats=True)\n",
       "      )\n",
       "    )\n",
       "    (1): BasicBlock(\n",
       "      (conv1): Conv2d(512, 512, kernel_size=(3, 3), stride=(1, 1), padding=(1, 1), bias=False)\n",
       "      (bn1): BatchNorm2d(512, eps=1e-05, momentum=0.1, affine=True, track_running_stats=True)\n",
       "      (relu): ReLU(inplace=True)\n",
       "      (conv2): Conv2d(512, 512, kernel_size=(3, 3), stride=(1, 1), padding=(1, 1), bias=False)\n",
       "      (bn2): BatchNorm2d(512, eps=1e-05, momentum=0.1, affine=True, track_running_stats=True)\n",
       "    )\n",
       "  )\n",
       "  (avgpool): AdaptiveAvgPool2d(output_size=(1, 1))\n",
       "  (fc): Linear(in_features=512, out_features=176, bias=True)\n",
       ")"
      ]
     },
     "execution_count": 72,
     "metadata": {},
     "output_type": "execute_result"
    }
   ],
   "source": [
    "# 加载最佳模型\n",
    "model.load_state_dict(torch.load(model_save))\n",
    "model = model.to(device)\n",
    "model.eval()"
   ]
  },
  {
   "cell_type": "code",
   "execution_count": 73,
   "metadata": {},
   "outputs": [
    {
     "name": "stderr",
     "output_type": "stream",
     "text": [
      "100%|██████████| 275/275 [00:05<00:00, 46.63it/s]\n"
     ]
    }
   ],
   "source": [
    "test_dataset = ImageDataset(get_file_path('test.csv'), test_mode=True, transform=transform)\n",
    "test_loader = DataLoader(test_dataset, batch_size=32, shuffle=False, num_workers=2)\n",
    "\n",
    "pred_idx = []\n",
    "# Iterate the testing set by batches.\n",
    "for inputs in tqdm(test_loader):\n",
    "    inputs = inputs.to(device)\n",
    "    with torch.no_grad():\n",
    "        output = model(inputs)\n",
    "        pred_idx.extend(output.argmax(dim=1).tolist())\n",
    "\n",
    "\n",
    "pred_label = [idx_to_class[idx] for idx in pred_idx]\n"
   ]
  },
  {
   "cell_type": "code",
   "execution_count": 74,
   "metadata": {},
   "outputs": [],
   "source": [
    "submit_file = os.path.join('.', 'submission', 'classify-leaves.csv')\n",
    "\n",
    "test_data = pd.read_csv(get_file_path('test.csv'))\n",
    "test_data['label'] = pd.Series(pred_label)\n",
    "submission = pd.concat([test_data['image'], test_data['label']], axis=1)\n",
    "submission.to_csv(submit_file, index=False)"
   ]
  }
 ],
 "metadata": {
  "kernelspec": {
   "display_name": "d2l",
   "language": "python",
   "name": "python3"
  },
  "language_info": {
   "codemirror_mode": {
    "name": "ipython",
    "version": 3
   },
   "file_extension": ".py",
   "mimetype": "text/x-python",
   "name": "python",
   "nbconvert_exporter": "python",
   "pygments_lexer": "ipython3",
   "version": "3.11.8"
  }
 },
 "nbformat": 4,
 "nbformat_minor": 2
}
